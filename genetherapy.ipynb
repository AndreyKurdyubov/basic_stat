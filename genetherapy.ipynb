{
 "cells": [
  {
   "cell_type": "code",
   "execution_count": 78,
   "id": "ff5d9443",
   "metadata": {
    "scrolled": true
   },
   "outputs": [],
   "source": [
    "import pandas as pd\n",
    "import numpy as np\n",
    "import seaborn as sns\n",
    "from matplotlib import pyplot as plt\n",
    "from scipy import stats\n"
   ]
  },
  {
   "cell_type": "code",
   "execution_count": 22,
   "id": "cb5e4ae8",
   "metadata": {},
   "outputs": [],
   "source": [
    "genth = pd.read_csv('data/genetherapy.csv')"
   ]
  },
  {
   "cell_type": "code",
   "execution_count": 23,
   "id": "abee351f",
   "metadata": {},
   "outputs": [],
   "source": [
    "data = genth.copy()"
   ]
  },
  {
   "cell_type": "code",
   "execution_count": 83,
   "id": "059301ee",
   "metadata": {},
   "outputs": [],
   "source": [
    "samples= [list(frame) for group,frame in data.groupby('Therapy').expr]"
   ]
  },
  {
   "cell_type": "code",
   "execution_count": 84,
   "id": "72f35f28",
   "metadata": {},
   "outputs": [
    {
     "data": {
      "text/plain": [
       "[[100, 96, 101, 95, 103, 99, 97, 96, 98, 106, 106, 104, 95, 95, 105],\n",
       " [100, 100, 95, 84, 101, 101, 95, 106, 105, 97, 103, 94, 94, 100, 107],\n",
       " [91, 96, 94, 96, 91, 85, 98, 93, 100, 85, 101, 101, 90, 98, 97],\n",
       " [92, 85, 95, 89, 91, 91, 99, 94, 97, 94, 87, 93, 96, 92, 90]]"
      ]
     },
     "execution_count": 84,
     "metadata": {},
     "output_type": "execute_result"
    }
   ],
   "source": [
    "samples"
   ]
  },
  {
   "cell_type": "code",
   "execution_count": 116,
   "id": "84f1a08e",
   "metadata": {},
   "outputs": [],
   "source": [
    "def ravel(list_of_lists: list[list[float]]) -> list[float]:\n",
    "    out = []\n",
    "    for list_i in list_of_lists:\n",
    "        out.extend(list_i)\n",
    "    return out\n",
    "\n",
    "def smean(group: list[float]) -> float:\n",
    "    return sum(group) / len(group)\n",
    "\n",
    "def SST(groups: list[list[float]]) -> float:\n",
    "    rav = ravel(groups)\n",
    "    tot_mean = smean(rav)\n",
    "    tot_sst = 0\n",
    "    for el in rav:\n",
    "        tot_sst += (el - tot_mean)**2\n",
    "    return tot_sst\n",
    "\n",
    "def SSB(groups: list[list[float]]) -> float:\n",
    "    tot_mean = smean(ravel(groups))\n",
    "    tot_ssb = 0\n",
    "    for group in groups:\n",
    "        gm = smean(group)\n",
    "        tot_ssb += len(group)*(gm - tot_mean)**2\n",
    "    return tot_ssb\n",
    "\n",
    "def SSW(groups: list[list[float]]) -> float:\n",
    "    return sum([SST([group]) for group in groups])\n",
    "\n",
    "def f_score(groups: list[list[float]]) -> float:\n",
    "    N = len(ravel(groups))\n",
    "    m = len(groups)\n",
    "    return SSB(groups)/SSW(groups)*(N-m)/(m-1)        "
   ]
  },
  {
   "cell_type": "code",
   "execution_count": 125,
   "id": "6f082022",
   "metadata": {},
   "outputs": [],
   "source": [
    "def one_way(list_of_lists: list[list[float]]):\n",
    "    N = len(ravel(list_of_lists))\n",
    "    m = len(list_of_lists)\n",
    "    print(f'SST: {SST(list_of_lists)}\\nSSB: {SSB(list_of_lists)}\\nSSW: {SSW(list_of_lists)}')\n",
    "    print(f'df_b: {m-1}\\ndf_w: {N-m}')\n",
    "    print(f'f-score: {f_score(list_of_lists)}')"
   ]
  },
  {
   "cell_type": "code",
   "execution_count": 126,
   "id": "d0f68e9a",
   "metadata": {},
   "outputs": [
    {
     "name": "stdout",
     "output_type": "stream",
     "text": [
      "[[3, 1, 2], [5, 3, 4], [7, 6, 5]]\n",
      "SST: 30.0\n",
      "SSB: 24.0\n",
      "SSW: 6.0\n",
      "df_b: 2\n",
      "df_w: 6\n",
      "f-score: 12.0\n"
     ]
    }
   ],
   "source": [
    "list_of_lists = [[3, 1, 2], [5, 3, 4], [7, 6, 5]]\n",
    "print(list_of_lists)\n",
    "one_way(list_of_lists)"
   ]
  },
  {
   "cell_type": "code",
   "execution_count": 127,
   "id": "b3c879b7",
   "metadata": {},
   "outputs": [
    {
     "name": "stdout",
     "output_type": "stream",
     "text": [
      "SST: 1862.9833333333331\n",
      "SSB: 560.7166666666667\n",
      "SSW: 1302.2666666666669\n",
      "df_b: 3\n",
      "df_w: 56\n",
      "f-score: 8.037302481143987\n"
     ]
    }
   ],
   "source": [
    "one_way(samples)"
   ]
  },
  {
   "cell_type": "code",
   "execution_count": 85,
   "id": "74d1a26d",
   "metadata": {
    "scrolled": false
   },
   "outputs": [
    {
     "data": {
      "text/plain": [
       "F_onewayResult(statistic=8.03730248114399, pvalue=0.00015249722895229536)"
      ]
     },
     "execution_count": 85,
     "metadata": {},
     "output_type": "execute_result"
    }
   ],
   "source": [
    "stats.f_oneway(*samples)"
   ]
  },
  {
   "cell_type": "code",
   "execution_count": 48,
   "id": "6ace59fe",
   "metadata": {},
   "outputs": [],
   "source": [
    "classes = data['Therapy'].unique()"
   ]
  },
  {
   "cell_type": "code",
   "execution_count": 79,
   "id": "fd7c287f",
   "metadata": {},
   "outputs": [],
   "source": [
    "sets = dict()\n",
    "for ch in set(data['Therapy'].values):\n",
    "    mask = data['Therapy'] == ch\n",
    "    sets[ch] = data[mask]"
   ]
  },
  {
   "cell_type": "code",
   "execution_count": 26,
   "id": "ec021fb8",
   "metadata": {
    "collapsed": true
   },
   "outputs": [
    {
     "data": {
      "text/html": [
       "<div>\n",
       "<style scoped>\n",
       "    .dataframe tbody tr th:only-of-type {\n",
       "        vertical-align: middle;\n",
       "    }\n",
       "\n",
       "    .dataframe tbody tr th {\n",
       "        vertical-align: top;\n",
       "    }\n",
       "\n",
       "    .dataframe thead th {\n",
       "        text-align: right;\n",
       "    }\n",
       "</style>\n",
       "<table border=\"1\" class=\"dataframe\">\n",
       "  <thead>\n",
       "    <tr style=\"text-align: right;\">\n",
       "      <th></th>\n",
       "      <th>expr</th>\n",
       "      <th>Therapy</th>\n",
       "    </tr>\n",
       "  </thead>\n",
       "  <tbody>\n",
       "    <tr>\n",
       "      <th>0</th>\n",
       "      <td>100</td>\n",
       "      <td>A</td>\n",
       "    </tr>\n",
       "    <tr>\n",
       "      <th>1</th>\n",
       "      <td>96</td>\n",
       "      <td>A</td>\n",
       "    </tr>\n",
       "    <tr>\n",
       "      <th>2</th>\n",
       "      <td>101</td>\n",
       "      <td>A</td>\n",
       "    </tr>\n",
       "    <tr>\n",
       "      <th>3</th>\n",
       "      <td>95</td>\n",
       "      <td>A</td>\n",
       "    </tr>\n",
       "    <tr>\n",
       "      <th>4</th>\n",
       "      <td>103</td>\n",
       "      <td>A</td>\n",
       "    </tr>\n",
       "    <tr>\n",
       "      <th>5</th>\n",
       "      <td>99</td>\n",
       "      <td>A</td>\n",
       "    </tr>\n",
       "    <tr>\n",
       "      <th>6</th>\n",
       "      <td>97</td>\n",
       "      <td>A</td>\n",
       "    </tr>\n",
       "    <tr>\n",
       "      <th>7</th>\n",
       "      <td>96</td>\n",
       "      <td>A</td>\n",
       "    </tr>\n",
       "    <tr>\n",
       "      <th>8</th>\n",
       "      <td>98</td>\n",
       "      <td>A</td>\n",
       "    </tr>\n",
       "    <tr>\n",
       "      <th>9</th>\n",
       "      <td>106</td>\n",
       "      <td>A</td>\n",
       "    </tr>\n",
       "    <tr>\n",
       "      <th>10</th>\n",
       "      <td>106</td>\n",
       "      <td>A</td>\n",
       "    </tr>\n",
       "    <tr>\n",
       "      <th>11</th>\n",
       "      <td>104</td>\n",
       "      <td>A</td>\n",
       "    </tr>\n",
       "    <tr>\n",
       "      <th>12</th>\n",
       "      <td>95</td>\n",
       "      <td>A</td>\n",
       "    </tr>\n",
       "    <tr>\n",
       "      <th>13</th>\n",
       "      <td>95</td>\n",
       "      <td>A</td>\n",
       "    </tr>\n",
       "    <tr>\n",
       "      <th>14</th>\n",
       "      <td>105</td>\n",
       "      <td>A</td>\n",
       "    </tr>\n",
       "  </tbody>\n",
       "</table>\n",
       "</div>"
      ],
      "text/plain": [
       "    expr Therapy\n",
       "0    100       A\n",
       "1     96       A\n",
       "2    101       A\n",
       "3     95       A\n",
       "4    103       A\n",
       "5     99       A\n",
       "6     97       A\n",
       "7     96       A\n",
       "8     98       A\n",
       "9    106       A\n",
       "10   106       A\n",
       "11   104       A\n",
       "12    95       A\n",
       "13    95       A\n",
       "14   105       A"
      ]
     },
     "execution_count": 26,
     "metadata": {},
     "output_type": "execute_result"
    }
   ],
   "source": [
    "sets['A']"
   ]
  },
  {
   "cell_type": "code",
   "execution_count": 19,
   "id": "a397c3d6",
   "metadata": {
    "collapsed": true
   },
   "outputs": [
    {
     "data": {
      "text/html": [
       "<div>\n",
       "<style scoped>\n",
       "    .dataframe tbody tr th:only-of-type {\n",
       "        vertical-align: middle;\n",
       "    }\n",
       "\n",
       "    .dataframe tbody tr th {\n",
       "        vertical-align: top;\n",
       "    }\n",
       "\n",
       "    .dataframe thead th {\n",
       "        text-align: right;\n",
       "    }\n",
       "</style>\n",
       "<table border=\"1\" class=\"dataframe\">\n",
       "  <thead>\n",
       "    <tr style=\"text-align: right;\">\n",
       "      <th></th>\n",
       "      <th>expr</th>\n",
       "      <th>Therapy</th>\n",
       "    </tr>\n",
       "  </thead>\n",
       "  <tbody>\n",
       "    <tr>\n",
       "      <th>15</th>\n",
       "      <td>100</td>\n",
       "      <td>B</td>\n",
       "    </tr>\n",
       "    <tr>\n",
       "      <th>16</th>\n",
       "      <td>100</td>\n",
       "      <td>B</td>\n",
       "    </tr>\n",
       "    <tr>\n",
       "      <th>17</th>\n",
       "      <td>95</td>\n",
       "      <td>B</td>\n",
       "    </tr>\n",
       "    <tr>\n",
       "      <th>18</th>\n",
       "      <td>84</td>\n",
       "      <td>B</td>\n",
       "    </tr>\n",
       "    <tr>\n",
       "      <th>19</th>\n",
       "      <td>101</td>\n",
       "      <td>B</td>\n",
       "    </tr>\n",
       "    <tr>\n",
       "      <th>20</th>\n",
       "      <td>101</td>\n",
       "      <td>B</td>\n",
       "    </tr>\n",
       "    <tr>\n",
       "      <th>21</th>\n",
       "      <td>95</td>\n",
       "      <td>B</td>\n",
       "    </tr>\n",
       "    <tr>\n",
       "      <th>22</th>\n",
       "      <td>106</td>\n",
       "      <td>B</td>\n",
       "    </tr>\n",
       "    <tr>\n",
       "      <th>23</th>\n",
       "      <td>105</td>\n",
       "      <td>B</td>\n",
       "    </tr>\n",
       "    <tr>\n",
       "      <th>24</th>\n",
       "      <td>97</td>\n",
       "      <td>B</td>\n",
       "    </tr>\n",
       "    <tr>\n",
       "      <th>25</th>\n",
       "      <td>103</td>\n",
       "      <td>B</td>\n",
       "    </tr>\n",
       "    <tr>\n",
       "      <th>26</th>\n",
       "      <td>94</td>\n",
       "      <td>B</td>\n",
       "    </tr>\n",
       "    <tr>\n",
       "      <th>27</th>\n",
       "      <td>94</td>\n",
       "      <td>B</td>\n",
       "    </tr>\n",
       "    <tr>\n",
       "      <th>28</th>\n",
       "      <td>100</td>\n",
       "      <td>B</td>\n",
       "    </tr>\n",
       "    <tr>\n",
       "      <th>29</th>\n",
       "      <td>107</td>\n",
       "      <td>B</td>\n",
       "    </tr>\n",
       "  </tbody>\n",
       "</table>\n",
       "</div>"
      ],
      "text/plain": [
       "    expr Therapy\n",
       "15   100       B\n",
       "16   100       B\n",
       "17    95       B\n",
       "18    84       B\n",
       "19   101       B\n",
       "20   101       B\n",
       "21    95       B\n",
       "22   106       B\n",
       "23   105       B\n",
       "24    97       B\n",
       "25   103       B\n",
       "26    94       B\n",
       "27    94       B\n",
       "28   100       B\n",
       "29   107       B"
      ]
     },
     "execution_count": 19,
     "metadata": {},
     "output_type": "execute_result"
    }
   ],
   "source": [
    "sets['B']"
   ]
  },
  {
   "cell_type": "code",
   "execution_count": 33,
   "id": "561e99ab",
   "metadata": {},
   "outputs": [
    {
     "data": {
      "text/plain": [
       "<seaborn.axisgrid.FacetGrid at 0x21b36ab4100>"
      ]
     },
     "execution_count": 33,
     "metadata": {},
     "output_type": "execute_result"
    },
    {
     "data": {
      "image/png": "[encoded data removed]",
      "text/plain": [
       "<Figure size 1488.88x360 with 4 Axes>"
      ]
     },
     "metadata": {
      "needs_background": "light"
     },
     "output_type": "display_data"
    }
   ],
   "source": [
    "sns.displot(data=genth, x=\"expr\",  hue=\"Therapy\", col=\"Therapy\")"
   ]
  },
  {
   "cell_type": "code",
   "execution_count": 87,
   "id": "bdbc9799",
   "metadata": {},
   "outputs": [
    {
     "name": "stdout",
     "output_type": "stream",
     "text": [
      "A: mean 99.7, median  99.0, sd 4.2 count 15\n",
      "B: mean 98.8, median 100.0, sd 5.9 count 15\n",
      "C: mean 94.4, median  96.0, sd 5.2 count 15\n",
      "D: mean 92.3, median  92.0, sd 3.7 count 15\n"
     ]
    }
   ],
   "source": [
    "for ch in classes:\n",
    "    cur = sets[ch].expr\n",
    "    print(f'{ch}: mean {cur.mean():4.1f}, median {cur.median():5.1f}, sd {cur.std():3.1f} '\n",
    "          f'count {cur.count()}')"
   ]
  },
  {
   "cell_type": "code",
   "execution_count": null,
   "id": "8af9ba1b",
   "metadata": {},
   "outputs": [],
   "source": []
  },
  {
   "cell_type": "code",
   "execution_count": 66,
   "id": "6f66607b",
   "metadata": {},
   "outputs": [
    {
     "data": {
      "text/plain": [
       "[<matplotlib.lines.Line2D at 0x21b39cd3070>]"
      ]
     },
     "execution_count": 66,
     "metadata": {},
     "output_type": "execute_result"
    },
    {
     "data": {
      "image/png": "[encoded data removed]",
      "text/plain": [
       "<Figure size 432x288 with 1 Axes>"
      ]
     },
     "metadata": {
      "needs_background": "light"
     },
     "output_type": "display_data"
    }
   ],
   "source": [
    "a = np.random.normal(0, 1, 1000)\n",
    "b = sets['B'].expr\n",
    "\n",
    "percs = np.linspace(0, 100, 101)\n",
    "qn_a = np.percentile(a, percs)\n",
    "qn_b = np.percentile(b, percs)\n",
    "\n",
    "plt.plot(qn_a,qn_b,  marker=\"o\")"
   ]
  }
 ],
 "metadata": {
  "kernelspec": {
   "display_name": "Python 3 (ipykernel)",
   "language": "python",
   "name": "python3"
  },
  "language_info": {
   "codemirror_mode": {
    "name": "ipython",
    "version": 3
   },
   "file_extension": ".py",
   "mimetype": "text/x-python",
   "name": "python",
   "nbconvert_exporter": "python",
   "pygments_lexer": "ipython3",
   "version": "3.10.3"
  }
 },
 "nbformat": 4,
 "nbformat_minor": 5
}
